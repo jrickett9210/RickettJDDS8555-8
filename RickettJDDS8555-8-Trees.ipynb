{
 "cells": [
  {
   "cell_type": "markdown",
   "id": "4b175dfd",
   "metadata": {},
   "source": [
    "Read in Data"
   ]
  },
  {
   "cell_type": "code",
   "execution_count": 7,
   "id": "765b37e2",
   "metadata": {},
   "outputs": [
    {
     "name": "stdout",
     "output_type": "stream",
     "text": [
      "                 Dates        Category                      Descript  \\\n",
      "0  2015-05-13 23:53:00        WARRANTS                WARRANT ARREST   \n",
      "1  2015-05-13 23:53:00  OTHER OFFENSES      TRAFFIC VIOLATION ARREST   \n",
      "2  2015-05-13 23:33:00  OTHER OFFENSES      TRAFFIC VIOLATION ARREST   \n",
      "3  2015-05-13 23:30:00   LARCENY/THEFT  GRAND THEFT FROM LOCKED AUTO   \n",
      "4  2015-05-13 23:30:00   LARCENY/THEFT  GRAND THEFT FROM LOCKED AUTO   \n",
      "\n",
      "   DayOfWeek PdDistrict      Resolution                    Address  \\\n",
      "0  Wednesday   NORTHERN  ARREST, BOOKED         OAK ST / LAGUNA ST   \n",
      "1  Wednesday   NORTHERN  ARREST, BOOKED         OAK ST / LAGUNA ST   \n",
      "2  Wednesday   NORTHERN  ARREST, BOOKED  VANNESS AV / GREENWICH ST   \n",
      "3  Wednesday   NORTHERN            NONE   1500 Block of LOMBARD ST   \n",
      "4  Wednesday       PARK            NONE  100 Block of BRODERICK ST   \n",
      "\n",
      "            X          Y  \n",
      "0 -122.425892  37.774599  \n",
      "1 -122.425892  37.774599  \n",
      "2 -122.424363  37.800414  \n",
      "3 -122.426995  37.800873  \n",
      "4 -122.438738  37.771541  \n",
      "   Id                Dates DayOfWeek PdDistrict                   Address  \\\n",
      "0   0  2015-05-10 23:59:00    Sunday    BAYVIEW   2000 Block of THOMAS AV   \n",
      "1   1  2015-05-10 23:51:00    Sunday    BAYVIEW        3RD ST / REVERE AV   \n",
      "2   2  2015-05-10 23:50:00    Sunday   NORTHERN    2000 Block of GOUGH ST   \n",
      "3   3  2015-05-10 23:45:00    Sunday  INGLESIDE  4700 Block of MISSION ST   \n",
      "4   4  2015-05-10 23:45:00    Sunday  INGLESIDE  4700 Block of MISSION ST   \n",
      "\n",
      "            X          Y  \n",
      "0 -122.399588  37.735051  \n",
      "1 -122.391523  37.732432  \n",
      "2 -122.426002  37.792212  \n",
      "3 -122.437394  37.721412  \n",
      "4 -122.437394  37.721412  \n"
     ]
    }
   ],
   "source": [
    "import pandas as pd\n",
    "\n",
    "TRAIN = pd.read_csv(\"train_crime.csv\")\n",
    "TEST = pd.read_csv(\"test_crime.csv\")\n",
    "\n",
    "print(TRAIN.head())\n",
    "print(TEST.head())"
   ]
  },
  {
   "cell_type": "markdown",
   "id": "3c2f5a0f",
   "metadata": {},
   "source": [
    "Tree Model 1: Decision Tree"
   ]
  },
  {
   "cell_type": "code",
   "execution_count": null,
   "id": "c1c88774",
   "metadata": {},
   "outputs": [
    {
     "name": "stderr",
     "output_type": "stream",
     "text": [
      "C:\\Users\\jacob\\AppData\\Local\\Packages\\PythonSoftwareFoundation.Python.3.11_qbz5n2kfra8p0\\LocalCache\\local-packages\\Python311\\site-packages\\sklearn\\metrics\\_classification.py:1471: UndefinedMetricWarning: Precision and F-score are ill-defined and being set to 0.0 in labels with no predicted samples. Use `zero_division` parameter to control this behavior.\n",
      "  _warn_prf(average, modifier, msg_start, len(result))\n"
     ]
    },
    {
     "name": "stdout",
     "output_type": "stream",
     "text": [
      "                             precision    recall  f1-score   support\n",
      "\n",
      "                      ARSON       0.00      0.00      0.00       285\n",
      "                    ASSAULT       0.16      0.09      0.12     15273\n",
      "                 BAD CHECKS       0.00      0.00      0.00        83\n",
      "                    BRIBERY       0.00      0.00      0.00        67\n",
      "                   BURGLARY       0.14      0.01      0.01      7441\n",
      "         DISORDERLY CONDUCT       0.22      0.05      0.08       859\n",
      "DRIVING UNDER THE INFLUENCE       0.00      0.00      0.00       412\n",
      "              DRUG/NARCOTIC       0.32      0.40      0.35     10777\n",
      "                DRUNKENNESS       0.00      0.00      0.00       875\n",
      "               EMBEZZLEMENT       0.00      0.00      0.00       233\n",
      "                  EXTORTION       0.00      0.00      0.00        45\n",
      "            FAMILY OFFENSES       0.00      0.00      0.00       100\n",
      "     FORGERY/COUNTERFEITING       0.11      0.00      0.00      2086\n",
      "                      FRAUD       0.24      0.01      0.01      3307\n",
      "                   GAMBLING       0.00      0.00      0.00        26\n",
      "                 KIDNAPPING       0.00      0.00      0.00       464\n",
      "              LARCENY/THEFT       0.29      0.72      0.41     35114\n",
      "                LIQUOR LAWS       0.00      0.00      0.00       386\n",
      "                  LOITERING       1.00      0.03      0.05       251\n",
      "             MISSING PERSON       0.49      0.16      0.24      5186\n",
      "               NON-CRIMINAL       0.23      0.11      0.15     18427\n",
      "             OTHER OFFENSES       0.20      0.34      0.25     25074\n",
      "    PORNOGRAPHY/OBSCENE MAT       0.00      0.00      0.00         3\n",
      "               PROSTITUTION       0.37      0.52      0.43      1491\n",
      "          RECOVERED VEHICLE       0.00      0.00      0.00       647\n",
      "                    ROBBERY       0.08      0.00      0.00      4678\n",
      "                    RUNAWAY       0.00      0.00      0.00       365\n",
      "            SECONDARY CODES       0.00      0.00      0.00      2053\n",
      "      SEX OFFENSES FORCIBLE       0.00      0.00      0.00       901\n",
      "  SEX OFFENSES NON FORCIBLE       0.00      0.00      0.00        35\n",
      "            STOLEN PROPERTY       0.00      0.00      0.00       896\n",
      "                    SUICIDE       0.00      0.00      0.00       115\n",
      "             SUSPICIOUS OCC       0.00      0.00      0.00      6369\n",
      "                       TREA       0.00      0.00      0.00         2\n",
      "                   TRESPASS       0.28      0.02      0.03      1477\n",
      "                  VANDALISM       0.14      0.00      0.00      8912\n",
      "              VEHICLE THEFT       0.21      0.20      0.21     10765\n",
      "                   WARRANTS       0.14      0.00      0.00      8391\n",
      "                WEAPON LAWS       0.00      0.00      0.00      1739\n",
      "\n",
      "                   accuracy                           0.26    175610\n",
      "                  macro avg       0.12      0.07      0.06    175610\n",
      "               weighted avg       0.21      0.26      0.19    175610\n",
      "\n"
     ]
    },
    {
     "name": "stderr",
     "output_type": "stream",
     "text": [
      "C:\\Users\\jacob\\AppData\\Local\\Packages\\PythonSoftwareFoundation.Python.3.11_qbz5n2kfra8p0\\LocalCache\\local-packages\\Python311\\site-packages\\sklearn\\metrics\\_classification.py:1471: UndefinedMetricWarning: Precision and F-score are ill-defined and being set to 0.0 in labels with no predicted samples. Use `zero_division` parameter to control this behavior.\n",
      "  _warn_prf(average, modifier, msg_start, len(result))\n",
      "C:\\Users\\jacob\\AppData\\Local\\Packages\\PythonSoftwareFoundation.Python.3.11_qbz5n2kfra8p0\\LocalCache\\local-packages\\Python311\\site-packages\\sklearn\\metrics\\_classification.py:1471: UndefinedMetricWarning: Precision and F-score are ill-defined and being set to 0.0 in labels with no predicted samples. Use `zero_division` parameter to control this behavior.\n",
      "  _warn_prf(average, modifier, msg_start, len(result))\n"
     ]
    }
   ],
   "source": [
    "import pandas as pd\n",
    "from sklearn.tree import DecisionTreeClassifier\n",
    "from sklearn.preprocessing import LabelEncoder\n",
    "from sklearn.metrics import classification_report\n",
    "from sklearn.model_selection import train_test_split\n",
    "\n",
    "TRAIN['Dates'] = pd.to_datetime(TRAIN['Dates'])\n",
    "TRAIN['Hour'] = TRAIN['Dates'].dt.hour\n",
    "TRAIN['Month'] = TRAIN['Dates'].dt.month\n",
    "TRAIN['Year'] = TRAIN['Dates'].dt.year\n",
    "\n",
    "TEST['Dates'] = pd.to_datetime(TEST['Dates'])\n",
    "TEST['Hour'] = TEST['Dates'].dt.hour\n",
    "TEST['Month'] = TEST['Dates'].dt.month\n",
    "TEST['Year'] = TEST['Dates'].dt.year\n",
    "\n",
    "label_day = LabelEncoder()\n",
    "label_dist = LabelEncoder()\n",
    "label_cat = LabelEncoder()\n",
    "\n",
    "TRAIN['DayOfWeek'] = label_day.fit_transform(TRAIN['DayOfWeek'])\n",
    "TRAIN['PdDistrict'] = label_dist.fit_transform(TRAIN['PdDistrict'])\n",
    "TRAIN['Category'] = label_cat.fit_transform(TRAIN['Category'])\n",
    "\n",
    "TEST['DayOfWeek'] = label_day.transform(TEST['DayOfWeek'])\n",
    "TEST['PdDistrict'] = label_dist.transform(TEST['PdDistrict'])\n",
    "\n",
    "features = ['DayOfWeek', 'PdDistrict', 'Hour', 'Month', 'Year', 'X', 'Y']\n",
    "X = TRAIN[features]\n",
    "y = TRAIN['Category']\n",
    "X_test = TEST[features]\n",
    "\n",
    "X_train, X_val, y_train, y_val = train_test_split(X, y, test_size=0.2, random_state=8555)\n",
    "\n",
    "model = DecisionTreeClassifier(max_depth=10, random_state=8555)\n",
    "model.fit(X_train, y_train)\n",
    "\n",
    "y_pred = model.predict(X_val)\n",
    "print(classification_report(y_val, y_pred, target_names=label_cat.classes_))\n",
    "\n"
   ]
  },
  {
   "cell_type": "markdown",
   "id": "d70fb3c0",
   "metadata": {},
   "source": [
    "Add Predictions to Test Set"
   ]
  },
  {
   "cell_type": "code",
   "execution_count": null,
   "id": "fc351fe6",
   "metadata": {},
   "outputs": [
    {
     "name": "stdout",
     "output_type": "stream",
     "text": [
      "   Id     ARSON   ASSAULT  BAD CHECKS   BRIBERY  BURGLARY  DISORDERLY CONDUCT  \\\n",
      "0   0  0.003282  0.129923    0.000137  0.000274  0.026395            0.000684   \n",
      "1   1  0.003542  0.122634    0.000332  0.000996  0.026674            0.001771   \n",
      "2   2  0.001278  0.053035    0.000568  0.000213  0.086333            0.001420   \n",
      "3   3  0.001002  0.094888    0.000000  0.000668  0.022386            0.002339   \n",
      "4   4  0.001002  0.094888    0.000000  0.000668  0.022386            0.002339   \n",
      "\n",
      "   DRIVING UNDER THE INFLUENCE  DRUG/NARCOTIC  DRUNKENNESS  ...  \\\n",
      "0                     0.003009       0.035832     0.001915  ...   \n",
      "1                     0.002435       0.086552     0.003542  ...   \n",
      "2                     0.002201       0.018459     0.002698  ...   \n",
      "3                     0.004343       0.047778     0.003341  ...   \n",
      "4                     0.004343       0.047778     0.003341  ...   \n",
      "\n",
      "   SEX OFFENSES NON FORCIBLE  STOLEN PROPERTY   SUICIDE  SUSPICIOUS OCC  \\\n",
      "0                   0.000000         0.004376  0.000547        0.038977   \n",
      "1                   0.000553         0.004870  0.000664        0.042059   \n",
      "2                   0.000000         0.007881  0.000568        0.034363   \n",
      "3                   0.000334         0.005680  0.000000        0.041764   \n",
      "4                   0.000334         0.005680  0.000000        0.041764   \n",
      "\n",
      "       TREA  TRESPASS  VANDALISM  VEHICLE THEFT  WARRANTS  WEAPON LAWS  \n",
      "0  0.000000  0.003009   0.092040       0.110503  0.031455     0.019420  \n",
      "1  0.000111  0.004649   0.041616       0.061649  0.068733     0.019037  \n",
      "2  0.000000  0.007171   0.054100       0.064892  0.022222     0.003621  \n",
      "3  0.000000  0.002339   0.076846       0.126963  0.034414     0.015703  \n",
      "4  0.000000  0.002339   0.076846       0.126963  0.034414     0.015703  \n",
      "\n",
      "[5 rows x 40 columns]\n"
     ]
    }
   ],
   "source": [
    "\n",
    "probs = model.predict_proba(X_test)\n",
    "\n",
    "\n",
    "probs_df = pd.DataFrame(probs, columns=label_cat.classes_)\n",
    "\n",
    "\n",
    "probs_df.insert(0, 'Id', TEST['Id'].values)\n",
    "\n",
    "print(probs_df.head())\n",
    "\n",
    "\n",
    "#probs_df.to_csv('decision_tree_submission.csv', index=False)\n"
   ]
  },
  {
   "cell_type": "markdown",
   "id": "d378bdd0",
   "metadata": {},
   "source": [
    "Decision Tree Assumption:\n",
    "\n",
    "Data can be split using predictor variables: Passed. We see non-zero feature importances for the predictor variables in this model. However, day of week and month contribute significantly less to our model. This is also supported by the tree having a depth of 10 and 967 leaves."
   ]
  },
  {
   "cell_type": "code",
   "execution_count": null,
   "id": "2c844c6a",
   "metadata": {},
   "outputs": [
    {
     "data": {
      "image/png": "[encoded data removed]",
      "text/plain": [
       "<Figure size 1000x600 with 1 Axes>"
      ]
     },
     "metadata": {},
     "output_type": "display_data"
    },
    {
     "name": "stdout",
     "output_type": "stream",
     "text": [
      "Tree depth: 10\n",
      "Number of leaves: 967\n"
     ]
    }
   ],
   "source": [
    "#Feature Importance plot and depth and leaves\n",
    "import matplotlib.pyplot as plt\n",
    "import numpy as np\n",
    "\n",
    "\n",
    "importances = model.feature_importances_\n",
    "feature_names = features\n",
    "\n",
    "\n",
    "indices = np.argsort(importances)[::-1]\n",
    "\n",
    "plt.figure(figsize=(10, 6))\n",
    "plt.bar(range(len(importances)), importances[indices], align='center')\n",
    "plt.xticks(range(len(importances)), [feature_names[i] for i in indices], rotation=45)\n",
    "plt.title('Feature Importances (Decision Tree)')\n",
    "plt.xlabel('Feature')\n",
    "plt.ylabel('Importance')\n",
    "plt.tight_layout()\n",
    "plt.grid(True)\n",
    "plt.show()\n",
    "\n",
    "print(f\"Tree depth: {model.get_depth()}\")\n",
    "print(f\"Number of leaves: {model.get_n_leaves()}\")\n"
   ]
  },
  {
   "cell_type": "markdown",
   "id": "fd107cf0",
   "metadata": {},
   "source": [
    "Tree Model 2: Random Forest"
   ]
  },
  {
   "cell_type": "code",
   "execution_count": null,
   "id": "befca623",
   "metadata": {},
   "outputs": [
    {
     "name": "stdout",
     "output_type": "stream",
     "text": [
      "\n",
      "Random Forest Classification Report:\n"
     ]
    },
    {
     "name": "stderr",
     "output_type": "stream",
     "text": [
      "C:\\Users\\jacob\\AppData\\Local\\Packages\\PythonSoftwareFoundation.Python.3.11_qbz5n2kfra8p0\\LocalCache\\local-packages\\Python311\\site-packages\\sklearn\\metrics\\_classification.py:1471: UndefinedMetricWarning: Precision and F-score are ill-defined and being set to 0.0 in labels with no predicted samples. Use `zero_division` parameter to control this behavior.\n",
      "  _warn_prf(average, modifier, msg_start, len(result))\n",
      "C:\\Users\\jacob\\AppData\\Local\\Packages\\PythonSoftwareFoundation.Python.3.11_qbz5n2kfra8p0\\LocalCache\\local-packages\\Python311\\site-packages\\sklearn\\metrics\\_classification.py:1471: UndefinedMetricWarning: Precision and F-score are ill-defined and being set to 0.0 in labels with no predicted samples. Use `zero_division` parameter to control this behavior.\n",
      "  _warn_prf(average, modifier, msg_start, len(result))\n"
     ]
    },
    {
     "name": "stdout",
     "output_type": "stream",
     "text": [
      "                             precision    recall  f1-score   support\n",
      "\n",
      "                      ARSON       0.00      0.00      0.00       285\n",
      "                    ASSAULT       0.27      0.01      0.03     15273\n",
      "                 BAD CHECKS       0.00      0.00      0.00        83\n",
      "                    BRIBERY       0.00      0.00      0.00        67\n",
      "                   BURGLARY       0.00      0.00      0.00      7441\n",
      "         DISORDERLY CONDUCT       0.00      0.00      0.00       859\n",
      "DRIVING UNDER THE INFLUENCE       0.00      0.00      0.00       412\n",
      "              DRUG/NARCOTIC       0.32      0.37      0.34     10777\n",
      "                DRUNKENNESS       0.00      0.00      0.00       875\n",
      "               EMBEZZLEMENT       0.00      0.00      0.00       233\n",
      "                  EXTORTION       0.00      0.00      0.00        45\n",
      "            FAMILY OFFENSES       0.00      0.00      0.00       100\n",
      "     FORGERY/COUNTERFEITING       0.00      0.00      0.00      2086\n",
      "                      FRAUD       0.00      0.00      0.00      3307\n",
      "                   GAMBLING       0.00      0.00      0.00        26\n",
      "                 KIDNAPPING       0.00      0.00      0.00       464\n",
      "              LARCENY/THEFT       0.27      0.82      0.41     35114\n",
      "                LIQUOR LAWS       0.00      0.00      0.00       386\n",
      "                  LOITERING       0.00      0.00      0.00       251\n",
      "             MISSING PERSON       0.71      0.13      0.22      5186\n",
      "               NON-CRIMINAL       0.31      0.04      0.07     18427\n",
      "             OTHER OFFENSES       0.20      0.36      0.26     25074\n",
      "    PORNOGRAPHY/OBSCENE MAT       0.00      0.00      0.00         3\n",
      "               PROSTITUTION       0.56      0.43      0.49      1491\n",
      "          RECOVERED VEHICLE       0.00      0.00      0.00       647\n",
      "                    ROBBERY       0.00      0.00      0.00      4678\n",
      "                    RUNAWAY       0.00      0.00      0.00       365\n",
      "            SECONDARY CODES       0.00      0.00      0.00      2053\n",
      "      SEX OFFENSES FORCIBLE       0.00      0.00      0.00       901\n",
      "  SEX OFFENSES NON FORCIBLE       0.00      0.00      0.00        35\n",
      "            STOLEN PROPERTY       0.00      0.00      0.00       896\n",
      "                    SUICIDE       0.00      0.00      0.00       115\n",
      "             SUSPICIOUS OCC       0.00      0.00      0.00      6369\n",
      "                       TREA       0.00      0.00      0.00         2\n",
      "                   TRESPASS       0.35      0.01      0.02      1477\n",
      "                  VANDALISM       0.00      0.00      0.00      8912\n",
      "              VEHICLE THEFT       0.26      0.17      0.20     10765\n",
      "                   WARRANTS       0.00      0.00      0.00      8391\n",
      "                WEAPON LAWS       0.00      0.00      0.00      1739\n",
      "\n",
      "                   accuracy                           0.26    175610\n",
      "                  macro avg       0.08      0.06      0.05    175610\n",
      "               weighted avg       0.20      0.26      0.17    175610\n",
      "\n"
     ]
    },
    {
     "name": "stderr",
     "output_type": "stream",
     "text": [
      "C:\\Users\\jacob\\AppData\\Local\\Packages\\PythonSoftwareFoundation.Python.3.11_qbz5n2kfra8p0\\LocalCache\\local-packages\\Python311\\site-packages\\sklearn\\metrics\\_classification.py:1471: UndefinedMetricWarning: Precision and F-score are ill-defined and being set to 0.0 in labels with no predicted samples. Use `zero_division` parameter to control this behavior.\n",
      "  _warn_prf(average, modifier, msg_start, len(result))\n"
     ]
    }
   ],
   "source": [
    "from sklearn.ensemble import RandomForestClassifier\n",
    "\n",
    "rf_model = RandomForestClassifier(n_estimators=100, max_depth=10, random_state=8555)\n",
    "rf_model.fit(X_train, y_train)\n",
    "\n",
    "\n",
    "rf_pred = rf_model.predict(X_val)\n",
    "print(\"\\nRandom Forest Classification Report:\")\n",
    "print(classification_report(y_val, rf_pred, target_names=label_cat.classes_))\n"
   ]
  },
  {
   "cell_type": "markdown",
   "id": "002e822a",
   "metadata": {},
   "source": [
    "Add predictions on test data"
   ]
  },
  {
   "cell_type": "code",
   "execution_count": null,
   "id": "0c8e797f",
   "metadata": {},
   "outputs": [
    {
     "name": "stdout",
     "output_type": "stream",
     "text": [
      "   Id     ARSON   ASSAULT  BAD CHECKS   BRIBERY  BURGLARY  DISORDERLY CONDUCT  \\\n",
      "0   0  0.003314  0.109329    0.000169  0.000494  0.028491            0.001447   \n",
      "1   1  0.004170  0.132825    0.000144  0.000823  0.024842            0.001987   \n",
      "2   2  0.003403  0.057331    0.000152  0.000092  0.062823            0.001149   \n",
      "3   3  0.002314  0.096308    0.000279  0.000662  0.026882            0.002428   \n",
      "4   4  0.002314  0.096308    0.000279  0.000662  0.026882            0.002428   \n",
      "\n",
      "   DRIVING UNDER THE INFLUENCE  DRUG/NARCOTIC  DRUNKENNESS  ...  \\\n",
      "0                     0.005861       0.031247     0.002183  ...   \n",
      "1                     0.003761       0.061704     0.005297  ...   \n",
      "2                     0.002708       0.017172     0.004693  ...   \n",
      "3                     0.005768       0.029133     0.003500  ...   \n",
      "4                     0.005768       0.029133     0.003500  ...   \n",
      "\n",
      "   SEX OFFENSES NON FORCIBLE  STOLEN PROPERTY   SUICIDE  SUSPICIOUS OCC  \\\n",
      "0                   0.000150         0.005337  0.000525        0.038551   \n",
      "1                   0.000566         0.005196  0.001011        0.045472   \n",
      "2                   0.000008         0.006947  0.000177        0.022737   \n",
      "3                   0.000146         0.005976  0.000545        0.032827   \n",
      "4                   0.000146         0.005976  0.000545        0.032827   \n",
      "\n",
      "       TREA  TRESPASS  VANDALISM  VEHICLE THEFT  WARRANTS  WEAPON LAWS  \n",
      "0  0.000027  0.003738   0.066081       0.102191  0.034123     0.019713  \n",
      "1  0.000123  0.003736   0.058785       0.070322  0.064793     0.029221  \n",
      "2  0.000000  0.005932   0.057875       0.068820  0.024687     0.003941  \n",
      "3  0.000009  0.002536   0.073961       0.149028  0.029167     0.013202  \n",
      "4  0.000009  0.002536   0.073961       0.149028  0.029167     0.013202  \n",
      "\n",
      "[5 rows x 40 columns]\n",
      "(884262, 40)\n"
     ]
    }
   ],
   "source": [
    "\n",
    "rf_probs = rf_model.predict_proba(X_test)\n",
    "\n",
    "\n",
    "rf_probs_df = pd.DataFrame(rf_probs, columns=label_cat.classes_)\n",
    "\n",
    "rf_probs_df.insert(0, 'Id', TEST['Id'].values)\n",
    "\n",
    "print(rf_probs_df.head())\n",
    "print(rf_probs_df.shape)\n",
    "\n",
    "#rf_probs_df.to_csv('random_forest_submission.csv', index=False)"
   ]
  },
  {
   "cell_type": "markdown",
   "id": "782a1a10",
   "metadata": {},
   "source": [
    "Random Forest Model Assumptions\n",
    "\n",
    "Combination of decision trees will reduce variance and improve predictions without adding bias. Failed.\n",
    "\n",
    "We see similar accuracy between decision tree and random forest. Also, we see a worse weighted average precision and f1-score for the random forest model. This suggests that the RF model was unable to reduce variance and improve predictions. \n",
    "\n",
    "Diversity of Trees: Failed. The feature importance plot shows some diversity, suggesting that the model is attempting to balance feature contributions across trees. However, large differences between feature importances indicate that certain features still dominate the predictions "
   ]
  },
  {
   "cell_type": "code",
   "execution_count": null,
   "id": "bb1a9302",
   "metadata": {},
   "outputs": [
    {
     "data": {
      "image/png": "[encoded data removed]",
      "text/plain": [
       "<Figure size 1000x600 with 1 Axes>"
      ]
     },
     "metadata": {},
     "output_type": "display_data"
    },
    {
     "name": "stdout",
     "output_type": "stream",
     "text": [
      "Average prediction variance across trees: 20.66368310387645\n"
     ]
    }
   ],
   "source": [
    "# Feature importance plot\n",
    "import matplotlib.pyplot as plt\n",
    "import numpy as np\n",
    "\n",
    "rf_importances = rf_model.feature_importances_\n",
    "feature_names = features\n",
    "\n",
    "indices = np.argsort(rf_importances)[::-1]\n",
    "\n",
    "plt.figure(figsize=(10, 6))\n",
    "plt.bar(range(len(rf_importances)), rf_importances[indices], align='center')\n",
    "plt.xticks(range(len(rf_importances)), [feature_names[i] for i in indices], rotation=45)\n",
    "plt.title('Feature Importances (Random Forest)')\n",
    "plt.xlabel('Feature')\n",
    "plt.ylabel('Importance')\n",
    "plt.tight_layout()\n",
    "plt.grid(True)\n",
    "plt.show()\n"
   ]
  },
  {
   "cell_type": "markdown",
   "id": "1b45e684",
   "metadata": {},
   "source": [
    "SVM Model"
   ]
  },
  {
   "cell_type": "markdown",
   "id": "bd4b90a9",
   "metadata": {},
   "source": [
    "Generating a Representative Sample Size for 95% conf: About 9604 say 10,000\n",
    "\n",
    "Z=1.96\n",
    "\n",
    "p=0.5\n",
    "\n",
    "e=0.01\n"
   ]
  },
  {
   "cell_type": "code",
   "execution_count": null,
   "id": "7c2c031b",
   "metadata": {},
   "outputs": [
    {
     "name": "stdout",
     "output_type": "stream",
     "text": [
      "                 Dates        Category                      Descript  \\\n",
      "0  2015-05-13 23:53:00        WARRANTS                WARRANT ARREST   \n",
      "1  2015-05-13 23:53:00  OTHER OFFENSES      TRAFFIC VIOLATION ARREST   \n",
      "2  2015-05-13 23:33:00  OTHER OFFENSES      TRAFFIC VIOLATION ARREST   \n",
      "3  2015-05-13 23:30:00   LARCENY/THEFT  GRAND THEFT FROM LOCKED AUTO   \n",
      "4  2015-05-13 23:30:00   LARCENY/THEFT  GRAND THEFT FROM LOCKED AUTO   \n",
      "\n",
      "   DayOfWeek PdDistrict      Resolution                    Address  \\\n",
      "0  Wednesday   NORTHERN  ARREST, BOOKED         OAK ST / LAGUNA ST   \n",
      "1  Wednesday   NORTHERN  ARREST, BOOKED         OAK ST / LAGUNA ST   \n",
      "2  Wednesday   NORTHERN  ARREST, BOOKED  VANNESS AV / GREENWICH ST   \n",
      "3  Wednesday   NORTHERN            NONE   1500 Block of LOMBARD ST   \n",
      "4  Wednesday       PARK            NONE  100 Block of BRODERICK ST   \n",
      "\n",
      "            X          Y  \n",
      "0 -122.425892  37.774599  \n",
      "1 -122.425892  37.774599  \n",
      "2 -122.424363  37.800414  \n",
      "3 -122.426995  37.800873  \n",
      "4 -122.438738  37.771541  \n"
     ]
    }
   ],
   "source": [
    "#did this to ensure original data for new model\n",
    "import pandas as pd\n",
    "\n",
    "TRAIN = pd.read_csv(\"train_crime.csv\")\n",
    "TEST = pd.read_csv(\"test_crime.csv\")\n",
    "\n",
    "print(TRAIN.head())\n",
    "\n"
   ]
  },
  {
   "cell_type": "code",
   "execution_count": null,
   "id": "1e84aa28",
   "metadata": {},
   "outputs": [
    {
     "name": "stdout",
     "output_type": "stream",
     "text": [
      "\n",
      "Linear SVM Classification Report:\n",
      "                             precision    recall  f1-score   support\n",
      "\n",
      "                      ARSON       0.00      0.00      0.00         6\n",
      "                    ASSAULT       0.00      0.00      0.00       335\n",
      "                    BRIBERY       0.00      0.00      0.00         1\n",
      "                   BURGLARY       0.00      0.00      0.00       171\n",
      "         DISORDERLY CONDUCT       0.00      0.00      0.00        17\n",
      "DRIVING UNDER THE INFLUENCE       0.00      0.00      0.00        13\n",
      "              DRUG/NARCOTIC       0.00      0.00      0.00       245\n",
      "                DRUNKENNESS       0.00      0.00      0.00        21\n",
      "               EMBEZZLEMENT       0.00      0.00      0.00         5\n",
      "                  EXTORTION       0.00      0.00      0.00         1\n",
      "            FAMILY OFFENSES       0.00      0.00      0.00         2\n",
      "     FORGERY/COUNTERFEITING       0.00      0.00      0.00        44\n",
      "                      FRAUD       0.00      0.00      0.00        64\n",
      "                 KIDNAPPING       0.00      0.00      0.00         9\n",
      "              LARCENY/THEFT       0.22      0.88      0.35       792\n",
      "                LIQUOR LAWS       0.00      0.00      0.00         8\n",
      "                  LOITERING       0.00      0.00      0.00         7\n",
      "             MISSING PERSON       0.00      0.00      0.00       143\n",
      "               NON-CRIMINAL       0.00      0.00      0.00       438\n",
      "             OTHER OFFENSES       0.18      0.25      0.21       591\n",
      "               PROSTITUTION       0.00      0.00      0.00        34\n",
      "          RECOVERED VEHICLE       0.00      0.00      0.00        16\n",
      "                    ROBBERY       0.00      0.00      0.00       104\n",
      "                    RUNAWAY       0.00      0.00      0.00         7\n",
      "            SECONDARY CODES       0.00      0.00      0.00        46\n",
      "      SEX OFFENSES FORCIBLE       0.00      0.00      0.00        18\n",
      "            STOLEN PROPERTY       0.00      0.00      0.00        20\n",
      "                    SUICIDE       0.00      0.00      0.00         3\n",
      "             SUSPICIOUS OCC       0.00      0.00      0.00       148\n",
      "                   TRESPASS       0.00      0.00      0.00        31\n",
      "                  VANDALISM       0.00      0.00      0.00       200\n",
      "              VEHICLE THEFT       0.00      0.00      0.00       240\n",
      "                   WARRANTS       0.00      0.00      0.00       192\n",
      "                WEAPON LAWS       0.00      0.00      0.00        28\n",
      "\n",
      "                   accuracy                           0.21      4000\n",
      "                  macro avg       0.01      0.03      0.02      4000\n",
      "               weighted avg       0.07      0.21      0.10      4000\n",
      "\n"
     ]
    },
    {
     "name": "stderr",
     "output_type": "stream",
     "text": [
      "C:\\Users\\jacob\\AppData\\Local\\Packages\\PythonSoftwareFoundation.Python.3.11_qbz5n2kfra8p0\\LocalCache\\local-packages\\Python311\\site-packages\\sklearn\\metrics\\_classification.py:1471: UndefinedMetricWarning: Precision and F-score are ill-defined and being set to 0.0 in labels with no predicted samples. Use `zero_division` parameter to control this behavior.\n",
      "  _warn_prf(average, modifier, msg_start, len(result))\n",
      "C:\\Users\\jacob\\AppData\\Local\\Packages\\PythonSoftwareFoundation.Python.3.11_qbz5n2kfra8p0\\LocalCache\\local-packages\\Python311\\site-packages\\sklearn\\metrics\\_classification.py:1471: UndefinedMetricWarning: Precision and F-score are ill-defined and being set to 0.0 in labels with no predicted samples. Use `zero_division` parameter to control this behavior.\n",
      "  _warn_prf(average, modifier, msg_start, len(result))\n",
      "C:\\Users\\jacob\\AppData\\Local\\Packages\\PythonSoftwareFoundation.Python.3.11_qbz5n2kfra8p0\\LocalCache\\local-packages\\Python311\\site-packages\\sklearn\\metrics\\_classification.py:1471: UndefinedMetricWarning: Precision and F-score are ill-defined and being set to 0.0 in labels with no predicted samples. Use `zero_division` parameter to control this behavior.\n",
      "  _warn_prf(average, modifier, msg_start, len(result))\n"
     ]
    }
   ],
   "source": [
    "import pandas as pd\n",
    "import numpy as np\n",
    "from sklearn.svm import SVC\n",
    "from sklearn.pipeline import make_pipeline\n",
    "from sklearn.preprocessing import StandardScaler, LabelEncoder\n",
    "from sklearn.model_selection import train_test_split\n",
    "from sklearn.metrics import classification_report\n",
    "from sklearn.utils.multiclass import unique_labels\n",
    "from sklearn.model_selection import StratifiedShuffleSplit\n",
    "\n",
    "TRAIN['Dates'] = pd.to_datetime(TRAIN['Dates'])\n",
    "TRAIN['Hour'] = TRAIN['Dates'].dt.hour\n",
    "TRAIN['Month'] = TRAIN['Dates'].dt.month\n",
    "TRAIN['Year'] = TRAIN['Dates'].dt.year\n",
    "\n",
    "TEST['Dates'] = pd.to_datetime(TEST['Dates'])\n",
    "TEST['Hour'] = TEST['Dates'].dt.hour\n",
    "TEST['Month'] = TEST['Dates'].dt.month\n",
    "TEST['Year'] = TEST['Dates'].dt.year\n",
    "\n",
    "label_day = LabelEncoder()\n",
    "label_dist = LabelEncoder()\n",
    "label_cat = LabelEncoder()\n",
    "\n",
    "TRAIN['DayOfWeek'] = label_day.fit_transform(TRAIN['DayOfWeek'])\n",
    "TRAIN['PdDistrict'] = label_dist.fit_transform(TRAIN['PdDistrict'])\n",
    "TRAIN['Category'] = label_cat.fit_transform(TRAIN['Category'])\n",
    "\n",
    "TEST['DayOfWeek'] = label_day.transform(TEST['DayOfWeek'])\n",
    "TEST['PdDistrict'] = label_dist.transform(TEST['PdDistrict'])\n",
    "\n",
    "features = ['DayOfWeek', 'PdDistrict', 'Hour', 'Month', 'Year', 'X', 'Y']\n",
    "X_full = TRAIN[features]\n",
    "y_full = TRAIN['Category']\n",
    "\n",
    "\n",
    "strat_split = StratifiedShuffleSplit(n_splits=1, train_size=20000, random_state=8555)\n",
    "\n",
    "for strat_index, _ in strat_split.split(X_full, y_full):\n",
    "    X_sample = X_full.iloc[strat_index]\n",
    "    y_sample = y_full.iloc[strat_index]\n",
    "\n",
    "X_train, X_val, y_train, y_val = train_test_split(X_sample, y_sample, test_size=0.2, random_state=8555)\n",
    "\n",
    "\n",
    "svm_model = make_pipeline(\n",
    "    StandardScaler(),\n",
    "    SVC(kernel='linear', probability=True, C=1.0, random_state=8555)\n",
    ")\n",
    "\n",
    "\n",
    "svm_model.fit(X_train, y_train)\n",
    "\n",
    "\n",
    "svm_pred = svm_model.predict(X_val)\n",
    "\n",
    "\n",
    "\n",
    "present_labels = sorted(unique_labels(y_val, svm_pred))\n",
    "\n",
    "\n",
    "if len(present_labels) == 1:\n",
    "    present_class_names = [label_cat.classes_[present_labels[0]]]\n",
    "else:\n",
    "    present_class_names = label_cat.inverse_transform(present_labels).tolist()\n",
    "\n",
    "\n",
    "print(\"\\nLinear SVM Classification Report:\")\n",
    "print(classification_report(\n",
    "    y_val, svm_pred,\n",
    "    labels=present_labels,\n",
    "    target_names=present_class_names\n",
    "))\n",
    "\n",
    "\n",
    "\n",
    "\n",
    "\n"
   ]
  },
  {
   "cell_type": "markdown",
   "id": "e360bfbb",
   "metadata": {},
   "source": [
    "Test Predictions"
   ]
  },
  {
   "cell_type": "code",
   "execution_count": null,
   "id": "23550798",
   "metadata": {},
   "outputs": [],
   "source": [
    "\n",
    "X_test = TEST[features]\n",
    "svm_test_probs = svm_model.predict_proba(X_test)\n",
    "\n",
    "\n",
    "learned_class_names = [label_cat.classes_[i] for i in svm_model.classes_]\n",
    "svm_probs_df = pd.DataFrame(svm_test_probs, columns=learned_class_names)\n",
    "\n",
    "all_class_names = list(label_cat.classes_)\n",
    "for cls in all_class_names:\n",
    "    if cls not in svm_probs_df.columns:\n",
    "        svm_probs_df[cls] = 0.0  \n",
    "\n",
    "\n",
    "svm_probs_df = svm_probs_df[sorted(all_class_names)]\n",
    "\n",
    "\n",
    "svm_probs_df.insert(0, 'Id', TEST['Id'].values)\n",
    "\n",
    "\n"
   ]
  },
  {
   "cell_type": "code",
   "execution_count": null,
   "id": "f6f1d8af",
   "metadata": {},
   "outputs": [
    {
     "name": "stdout",
     "output_type": "stream",
     "text": [
      "   Id     ARSON   ASSAULT  BAD CHECKS   BRIBERY  BURGLARY  DISORDERLY CONDUCT  \\\n",
      "0   0  0.001729  0.104613    0.000714  0.000565  0.041501            0.004241   \n",
      "1   1  0.001731  0.107463    0.000729  0.000584  0.040320            0.004205   \n",
      "2   2  0.001965  0.076105    0.000663  0.000433  0.042908            0.005197   \n",
      "3   3  0.001727  0.103708    0.000773  0.000579  0.044136            0.004252   \n",
      "4   4  0.001727  0.103708    0.000773  0.000579  0.044136            0.004252   \n",
      "\n",
      "   DRIVING UNDER THE INFLUENCE  DRUG/NARCOTIC  DRUNKENNESS  ...  \\\n",
      "0                     0.002439       0.051947     0.003528  ...   \n",
      "1                     0.002378       0.055412     0.003478  ...   \n",
      "2                     0.002779       0.049291     0.005168  ...   \n",
      "3                     0.002786       0.044580     0.003377  ...   \n",
      "4                     0.002786       0.044580     0.003377  ...   \n",
      "\n",
      "   SEX OFFENSES NON FORCIBLE  STOLEN PROPERTY   SUICIDE  SUSPICIOUS OCC  TREA  \\\n",
      "0                   0.000473         0.005782  0.000733        0.043087   0.0   \n",
      "1                   0.000467         0.005787  0.000743        0.043118   0.0   \n",
      "2                   0.000412         0.006234  0.000665        0.035581   0.0   \n",
      "3                   0.000551         0.005601  0.000783        0.043871   0.0   \n",
      "4                   0.000551         0.005601  0.000783        0.043871   0.0   \n",
      "\n",
      "   TRESPASS  VANDALISM  VEHICLE THEFT  WARRANTS  WEAPON LAWS  \n",
      "0  0.007697   0.062436       0.062338  0.046715     0.012439  \n",
      "1  0.007700   0.062004       0.059358  0.048838     0.012550  \n",
      "2  0.009731   0.054959       0.060962  0.045867     0.010801  \n",
      "3  0.006977   0.062940       0.066770  0.039713     0.012857  \n",
      "4  0.006977   0.062940       0.066770  0.039713     0.012857  \n",
      "\n",
      "[5 rows x 40 columns]\n",
      "(884262, 40)\n"
     ]
    }
   ],
   "source": [
    "\n",
    "print(svm_probs_df.head())\n",
    "print(svm_probs_df.shape)\n",
    "\n",
    "\n",
    "#svm_probs_df.to_csv('svm_submission.csv', index=False)"
   ]
  },
  {
   "cell_type": "markdown",
   "id": "abf92676",
   "metadata": {},
   "source": [
    "SVM Assumptions:\n",
    "\n",
    "Independent Observation: Passed. Durbin watson close to 2 indicates no autocorrelation and observations are independent \n",
    "\n",
    "Identically Distributed Data: Passed. KS test large p-value suggest failure to reject null hypothesis that data is identically distributed."
   ]
  },
  {
   "cell_type": "code",
   "execution_count": null,
   "id": "4e2ec06f",
   "metadata": {},
   "outputs": [
    {
     "name": "stdout",
     "output_type": "stream",
     "text": [
      "Durbin-Watson Statistic: 1.9496\n",
      "KS Test p-value (residuals vs. bootstrap residuals): 0.9012\n"
     ]
    }
   ],
   "source": [
    "from statsmodels.stats.stattools import durbin_watson\n",
    "from scipy.stats import ks_2samp\n",
    "\n",
    "residuals = y_val.values - svm_pred\n",
    "\n",
    "#Durbin Watson\n",
    "dw_stat = durbin_watson(residuals)\n",
    "print(f\"Durbin-Watson Statistic: {dw_stat:.4f}\")\n",
    "\n",
    "# KS test \"smirnov test\"\n",
    "residuals = y_val.values - svm_pred\n",
    "\n",
    "np.random.seed(8555)  \n",
    "bootstrapped_residuals = np.random.choice(residuals, size=len(residuals), replace=True)\n",
    "\n",
    "ks_stat, ks_pvalue = ks_2samp(residuals, bootstrapped_residuals)\n",
    "\n",
    "print(f\"KS Test p-value (residuals vs. bootstrap residuals): {ks_pvalue:.4f}\")\n",
    "\n"
   ]
  }
 ],
 "metadata": {
  "kernelspec": {
   "display_name": "Python 3",
   "language": "python",
   "name": "python3"
  },
  "language_info": {
   "codemirror_mode": {
    "name": "ipython",
    "version": 3
   },
   "file_extension": ".py",
   "mimetype": "text/x-python",
   "name": "python",
   "nbconvert_exporter": "python",
   "pygments_lexer": "ipython3",
   "version": "3.11.9"
  }
 },
 "nbformat": 4,
 "nbformat_minor": 5
}
